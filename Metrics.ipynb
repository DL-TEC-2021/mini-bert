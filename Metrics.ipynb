{
 "cells": [
  {
   "cell_type": "code",
   "execution_count": null,
   "metadata": {
    "collapsed": true
   },
   "outputs": [],
   "source": [
    "# Metrics Calculation"
   ]
  },
  {
   "cell_type": "code",
   "execution_count": 1,
   "metadata": {
    "pycharm": {
     "name": "#%%\n"
    }
   },
   "outputs": [
    {
     "name": "stdout",
     "output_type": "stream",
     "text": [
      "Loss: tensor(2.1988) PP: tensor(9.0142)\n"
     ]
    }
   ],
   "source": [
    "import torch\n",
    "import torch.nn.functional as F\n",
    "num_classes = 10\n",
    "batch_size  = 1\n",
    "\n",
    "# your model outputs / logits\n",
    "output      = torch.rand(batch_size, num_classes)\n",
    "\n",
    "# your targets\n",
    "target      = torch.randint(num_classes, (batch_size,))\n",
    "\n",
    "# getting loss using cross entropy\n",
    "loss        = F.cross_entropy(output, target)\n",
    "\n",
    "# calculating perplexity\n",
    "perplexity  = torch.exp(loss)\n",
    "print('Loss:', loss, 'PP:', perplexity)"
   ]
  },
  {
   "cell_type": "code",
   "execution_count": null,
   "metadata": {},
   "outputs": [],
   "source": []
  }
 ],
 "metadata": {
  "kernelspec": {
   "display_name": "Python 3",
   "language": "python",
   "name": "python3"
  },
  "language_info": {
   "codemirror_mode": {
    "name": "ipython",
    "version": 3
   },
   "file_extension": ".py",
   "mimetype": "text/x-python",
   "name": "python",
   "nbconvert_exporter": "python",
   "pygments_lexer": "ipython3",
   "version": "3.9.4"
  }
 },
 "nbformat": 4,
 "nbformat_minor": 1
}